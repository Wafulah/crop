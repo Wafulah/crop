{
 "cells": [
  {
   "cell_type": "code",
   "execution_count": 39,
   "metadata": {},
   "outputs": [],
   "source": [
    "import math\n",
    "import pandas as pd\n",
    "import joblib\n",
    "import numpy as np\n",
    "# from numpy.random import seed seed(1) \n",
    "import pandas as pd\n",
    "from sklearn import svm\n",
    "import matplotlib.pyplot as plt\n",
    "import seaborn as sns; sns.set(font_scale=1.2)\n",
    "\n",
    "import tensorflow\n",
    "from sklearn.preprocessing import MinMaxScaler \n",
    "from tensorflow.keras.models import Sequential \n",
    "from tensorflow.keras.layers import Dense, Dropout, LSTM \n",
    "from tensorflow.keras.wrappers.scikit_learn import KerasRegressor\n",
    "from sklearn.metrics import mean_absolute_error\n",
    "from sklearn.metrics import mean_squared_error\n",
    "\n",
    "import statsmodels.api as sm\n",
    "import statsmodels.formula.api as smf\n",
    "\n",
    "\n",
    "\n",
    "\n",
    "%matplotlib inline"
   ]
  },
  {
   "cell_type": "code",
   "execution_count": 40,
   "metadata": {},
   "outputs": [
    {
     "data": {
      "text/html": [
       "<div>\n",
       "<style scoped>\n",
       "    .dataframe tbody tr th:only-of-type {\n",
       "        vertical-align: middle;\n",
       "    }\n",
       "\n",
       "    .dataframe tbody tr th {\n",
       "        vertical-align: top;\n",
       "    }\n",
       "\n",
       "    .dataframe thead th {\n",
       "        text-align: right;\n",
       "    }\n",
       "</style>\n",
       "<table border=\"1\" class=\"dataframe\">\n",
       "  <thead>\n",
       "    <tr style=\"text-align: right;\">\n",
       "      <th></th>\n",
       "      <th>county</th>\n",
       "      <th>year</th>\n",
       "      <th>ha</th>\n",
       "      <th>mt</th>\n",
       "      <th>mt/ha</th>\n",
       "      <th>name</th>\n",
       "    </tr>\n",
       "  </thead>\n",
       "  <tbody>\n",
       "    <tr>\n",
       "      <th>0</th>\n",
       "      <td>Baringo</td>\n",
       "      <td>2012</td>\n",
       "      <td>17196.0</td>\n",
       "      <td>7104.42</td>\n",
       "      <td>0.410000</td>\n",
       "      <td>beans</td>\n",
       "    </tr>\n",
       "    <tr>\n",
       "      <th>1</th>\n",
       "      <td>Bomet</td>\n",
       "      <td>2012</td>\n",
       "      <td>19138.0</td>\n",
       "      <td>11212.20</td>\n",
       "      <td>0.590000</td>\n",
       "      <td>beans</td>\n",
       "    </tr>\n",
       "    <tr>\n",
       "      <th>2</th>\n",
       "      <td>Bungoma</td>\n",
       "      <td>2012</td>\n",
       "      <td>61715.0</td>\n",
       "      <td>38130.30</td>\n",
       "      <td>0.620000</td>\n",
       "      <td>beans</td>\n",
       "    </tr>\n",
       "    <tr>\n",
       "      <th>3</th>\n",
       "      <td>Busia</td>\n",
       "      <td>2012</td>\n",
       "      <td>19245.0</td>\n",
       "      <td>9544.50</td>\n",
       "      <td>0.500000</td>\n",
       "      <td>beans</td>\n",
       "    </tr>\n",
       "    <tr>\n",
       "      <th>4</th>\n",
       "      <td>Elgeyo Marakwet</td>\n",
       "      <td>2012</td>\n",
       "      <td>20241.0</td>\n",
       "      <td>17841.69</td>\n",
       "      <td>0.880000</td>\n",
       "      <td>beans</td>\n",
       "    </tr>\n",
       "    <tr>\n",
       "      <th>...</th>\n",
       "      <td>...</td>\n",
       "      <td>...</td>\n",
       "      <td>...</td>\n",
       "      <td>...</td>\n",
       "      <td>...</td>\n",
       "      <td>...</td>\n",
       "    </tr>\n",
       "    <tr>\n",
       "      <th>564</th>\n",
       "      <td>Kirinyaga</td>\n",
       "      <td>2015</td>\n",
       "      <td>90.0</td>\n",
       "      <td>318.00</td>\n",
       "      <td>3.533333</td>\n",
       "      <td>grapes</td>\n",
       "    </tr>\n",
       "    <tr>\n",
       "      <th>565</th>\n",
       "      <td>Kisii</td>\n",
       "      <td>2015</td>\n",
       "      <td>76.0</td>\n",
       "      <td>348.00</td>\n",
       "      <td>4.578947</td>\n",
       "      <td>grapes</td>\n",
       "    </tr>\n",
       "    <tr>\n",
       "      <th>566</th>\n",
       "      <td>Kisumu</td>\n",
       "      <td>2015</td>\n",
       "      <td>90.0</td>\n",
       "      <td>318.00</td>\n",
       "      <td>3.533333</td>\n",
       "      <td>grapes</td>\n",
       "    </tr>\n",
       "    <tr>\n",
       "      <th>567</th>\n",
       "      <td>Kitui</td>\n",
       "      <td>2015</td>\n",
       "      <td>36.0</td>\n",
       "      <td>318.00</td>\n",
       "      <td>8.833333</td>\n",
       "      <td>grapes</td>\n",
       "    </tr>\n",
       "    <tr>\n",
       "      <th>568</th>\n",
       "      <td>Kwale</td>\n",
       "      <td>2015</td>\n",
       "      <td>33.0</td>\n",
       "      <td>348.00</td>\n",
       "      <td>10.545455</td>\n",
       "      <td>grapes</td>\n",
       "    </tr>\n",
       "  </tbody>\n",
       "</table>\n",
       "<p>569 rows × 6 columns</p>\n",
       "</div>"
      ],
      "text/plain": [
       "              county  year       ha        mt      mt/ha    name\n",
       "0            Baringo  2012  17196.0   7104.42   0.410000   beans\n",
       "1              Bomet  2012  19138.0  11212.20   0.590000   beans\n",
       "2            Bungoma  2012  61715.0  38130.30   0.620000   beans\n",
       "3              Busia  2012  19245.0   9544.50   0.500000   beans\n",
       "4    Elgeyo Marakwet  2012  20241.0  17841.69   0.880000   beans\n",
       "..               ...   ...      ...       ...        ...     ...\n",
       "564        Kirinyaga  2015     90.0    318.00   3.533333  grapes\n",
       "565            Kisii  2015     76.0    348.00   4.578947  grapes\n",
       "566           Kisumu  2015     90.0    318.00   3.533333  grapes\n",
       "567            Kitui  2015     36.0    318.00   8.833333  grapes\n",
       "568            Kwale  2015     33.0    348.00  10.545455  grapes\n",
       "\n",
       "[569 rows x 6 columns]"
      ]
     },
     "execution_count": 40,
     "metadata": {},
     "output_type": "execute_result"
    }
   ],
   "source": [
    "df = pd.read_csv('final_yield.csv')\n",
    "df"
   ]
  },
  {
   "cell_type": "code",
   "execution_count": 41,
   "metadata": {},
   "outputs": [
    {
     "data": {
      "text/plain": [
       "<AxesSubplot: >"
      ]
     },
     "execution_count": 41,
     "metadata": {},
     "output_type": "execute_result"
    },
    {
     "data": {
      "image/png": "[encoded data removed]",
      "text/plain": [
       "<Figure size 640x480 with 1 Axes>"
      ]
     },
     "metadata": {},
     "output_type": "display_data"
    }
   ],
   "source": [
    "df.plot.area(stacked=False)"
   ]
  },
  {
   "cell_type": "code",
   "execution_count": 42,
   "metadata": {},
   "outputs": [
    {
     "name": "stdout",
     "output_type": "stream",
     "text": [
      "<class 'pandas.core.frame.DataFrame'>\n",
      "RangeIndex: 569 entries, 0 to 568\n",
      "Data columns (total 6 columns):\n",
      " #   Column  Non-Null Count  Dtype  \n",
      "---  ------  --------------  -----  \n",
      " 0   county  569 non-null    object \n",
      " 1   year    569 non-null    int64  \n",
      " 2   ha      569 non-null    float64\n",
      " 3   mt      569 non-null    float64\n",
      " 4   mt/ha   569 non-null    float64\n",
      " 5   name    569 non-null    object \n",
      "dtypes: float64(3), int64(1), object(2)\n",
      "memory usage: 26.8+ KB\n"
     ]
    }
   ],
   "source": [
    "\n",
    "df.info()"
   ]
  },
  {
   "cell_type": "code",
   "execution_count": 43,
   "metadata": {},
   "outputs": [
    {
     "name": "stderr",
     "output_type": "stream",
     "text": [
      "C:\\Users\\HP\\AppData\\Local\\Temp\\ipykernel_8884\\147289282.py:2: FutureWarning: The default value of numeric_only in DataFrame.corr is deprecated. In a future version, it will default to False. Select only valid columns or specify the value of numeric_only to silence this warning.\n",
      "  sns.heatmap(df.corr())\n"
     ]
    },
    {
     "data": {
      "text/plain": [
       "<AxesSubplot: >"
      ]
     },
     "execution_count": 43,
     "metadata": {},
     "output_type": "execute_result"
    },
    {
     "data": {
      "image/png": "[encoded data removed]",
      "text/plain": [
       "<Figure size 640x480 with 2 Axes>"
      ]
     },
     "metadata": {},
     "output_type": "display_data"
    }
   ],
   "source": [
    "# df = df.drop(['Unnamed: 6'], axis=1)\n",
    "sns.heatmap(df.corr())"
   ]
  },
  {
   "cell_type": "code",
   "execution_count": 44,
   "metadata": {},
   "outputs": [],
   "source": [
    "\n",
    "# dataset = df.values\n",
    "\n",
    "# X = df[['year','ha','mt/ha','mt']]\n",
    "# y = df[['name']]\n",
    "\n",
    "# dataset\n",
    "data = df\n",
    "y1 = np.array(data[['mt']])\n"
   ]
  },
  {
   "cell_type": "code",
   "execution_count": 45,
   "metadata": {},
   "outputs": [
    {
     "data": {
      "text/html": [
       "<div>\n",
       "<style scoped>\n",
       "    .dataframe tbody tr th:only-of-type {\n",
       "        vertical-align: middle;\n",
       "    }\n",
       "\n",
       "    .dataframe tbody tr th {\n",
       "        vertical-align: top;\n",
       "    }\n",
       "\n",
       "    .dataframe thead th {\n",
       "        text-align: right;\n",
       "    }\n",
       "</style>\n",
       "<table border=\"1\" class=\"dataframe\">\n",
       "  <thead>\n",
       "    <tr style=\"text-align: right;\">\n",
       "      <th></th>\n",
       "      <th>4</th>\n",
       "      <th>0</th>\n",
       "      <th>2</th>\n",
       "      <th>3</th>\n",
       "      <th>1</th>\n",
       "    </tr>\n",
       "  </thead>\n",
       "  <tbody>\n",
       "    <tr>\n",
       "      <th>0</th>\n",
       "      <td>2012</td>\n",
       "      <td>0</td>\n",
       "      <td>17196.0</td>\n",
       "      <td>0.410000</td>\n",
       "      <td>0</td>\n",
       "    </tr>\n",
       "    <tr>\n",
       "      <th>1</th>\n",
       "      <td>2012</td>\n",
       "      <td>1</td>\n",
       "      <td>19138.0</td>\n",
       "      <td>0.590000</td>\n",
       "      <td>0</td>\n",
       "    </tr>\n",
       "    <tr>\n",
       "      <th>2</th>\n",
       "      <td>2012</td>\n",
       "      <td>2</td>\n",
       "      <td>61715.0</td>\n",
       "      <td>0.620000</td>\n",
       "      <td>0</td>\n",
       "    </tr>\n",
       "    <tr>\n",
       "      <th>3</th>\n",
       "      <td>2012</td>\n",
       "      <td>3</td>\n",
       "      <td>19245.0</td>\n",
       "      <td>0.500000</td>\n",
       "      <td>0</td>\n",
       "    </tr>\n",
       "    <tr>\n",
       "      <th>4</th>\n",
       "      <td>2012</td>\n",
       "      <td>4</td>\n",
       "      <td>20241.0</td>\n",
       "      <td>0.880000</td>\n",
       "      <td>0</td>\n",
       "    </tr>\n",
       "    <tr>\n",
       "      <th>...</th>\n",
       "      <td>...</td>\n",
       "      <td>...</td>\n",
       "      <td>...</td>\n",
       "      <td>...</td>\n",
       "      <td>...</td>\n",
       "    </tr>\n",
       "    <tr>\n",
       "      <th>564</th>\n",
       "      <td>2015</td>\n",
       "      <td>25</td>\n",
       "      <td>90.0</td>\n",
       "      <td>3.533333</td>\n",
       "      <td>9</td>\n",
       "    </tr>\n",
       "    <tr>\n",
       "      <th>565</th>\n",
       "      <td>2015</td>\n",
       "      <td>26</td>\n",
       "      <td>76.0</td>\n",
       "      <td>4.578947</td>\n",
       "      <td>9</td>\n",
       "    </tr>\n",
       "    <tr>\n",
       "      <th>566</th>\n",
       "      <td>2015</td>\n",
       "      <td>27</td>\n",
       "      <td>90.0</td>\n",
       "      <td>3.533333</td>\n",
       "      <td>9</td>\n",
       "    </tr>\n",
       "    <tr>\n",
       "      <th>567</th>\n",
       "      <td>2015</td>\n",
       "      <td>28</td>\n",
       "      <td>36.0</td>\n",
       "      <td>8.833333</td>\n",
       "      <td>9</td>\n",
       "    </tr>\n",
       "    <tr>\n",
       "      <th>568</th>\n",
       "      <td>2015</td>\n",
       "      <td>29</td>\n",
       "      <td>33.0</td>\n",
       "      <td>10.545455</td>\n",
       "      <td>9</td>\n",
       "    </tr>\n",
       "  </tbody>\n",
       "</table>\n",
       "<p>569 rows × 5 columns</p>\n",
       "</div>"
      ],
      "text/plain": [
       "        4   0        2          3  1\n",
       "0    2012   0  17196.0   0.410000  0\n",
       "1    2012   1  19138.0   0.590000  0\n",
       "2    2012   2  61715.0   0.620000  0\n",
       "3    2012   3  19245.0   0.500000  0\n",
       "4    2012   4  20241.0   0.880000  0\n",
       "..    ...  ..      ...        ... ..\n",
       "564  2015  25     90.0   3.533333  9\n",
       "565  2015  26     76.0   4.578947  9\n",
       "566  2015  27     90.0   3.533333  9\n",
       "567  2015  28     36.0   8.833333  9\n",
       "568  2015  29     33.0  10.545455  9\n",
       "\n",
       "[569 rows x 5 columns]"
      ]
     },
     "execution_count": 45,
     "metadata": {},
     "output_type": "execute_result"
    }
   ],
   "source": [
    "from sklearn.feature_extraction import DictVectorizer\n",
    "\n",
    "cols = data[['county','name']]\n",
    "mapping = {}\n",
    "\n",
    "for col in cols:\n",
    "  \n",
    "  mapping[col] = {name: i for i, name in enumerate(data[col].unique())}\n",
    "def mapping_func(row):\n",
    "  return pd.Series([mapping[col][row[col]] for col in cols])\n",
    "\n",
    "\n",
    "x1 = data.apply(mapping_func, axis=1)\n",
    "y = data[['year']]\n",
    "h = data[['ha']]\n",
    "mt_ha = data[['mt/ha']]\n",
    "x1.insert(loc=0,column=4,value=y)\n",
    "x1.insert(loc=2,column=2,value=h)\n",
    "x1.insert(loc=3,column=3,value=mt_ha)\n",
    "x1 \n"
   ]
  },
  {
   "cell_type": "code",
   "execution_count": 46,
   "metadata": {},
   "outputs": [
    {
     "data": {
      "text/plain": [
       "<AxesSubplot: >"
      ]
     },
     "execution_count": 46,
     "metadata": {},
     "output_type": "execute_result"
    },
    {
     "data": {
      "image/png": "[encoded data removed]",
      "text/plain": [
       "<Figure size 640x480 with 2 Axes>"
      ]
     },
     "metadata": {},
     "output_type": "display_data"
    }
   ],
   "source": [
    "sns.heatmap(x1.corr())"
   ]
  },
  {
   "cell_type": "code",
   "execution_count": 47,
   "metadata": {},
   "outputs": [
    {
     "data": {
      "text/html": [
       "<div>\n",
       "<style scoped>\n",
       "    .dataframe tbody tr th:only-of-type {\n",
       "        vertical-align: middle;\n",
       "    }\n",
       "\n",
       "    .dataframe tbody tr th {\n",
       "        vertical-align: top;\n",
       "    }\n",
       "\n",
       "    .dataframe thead th {\n",
       "        text-align: right;\n",
       "    }\n",
       "</style>\n",
       "<table border=\"1\" class=\"dataframe\">\n",
       "  <thead>\n",
       "    <tr style=\"text-align: right;\">\n",
       "      <th></th>\n",
       "      <th>4</th>\n",
       "      <th>0</th>\n",
       "      <th>2</th>\n",
       "      <th>3</th>\n",
       "      <th>1</th>\n",
       "    </tr>\n",
       "  </thead>\n",
       "  <tbody>\n",
       "    <tr>\n",
       "      <th>553</th>\n",
       "      <td>2015</td>\n",
       "      <td>3</td>\n",
       "      <td>90.0</td>\n",
       "      <td>3.533333</td>\n",
       "      <td>9</td>\n",
       "    </tr>\n",
       "    <tr>\n",
       "      <th>119</th>\n",
       "      <td>2013</td>\n",
       "      <td>21</td>\n",
       "      <td>2578.6</td>\n",
       "      <td>13.280000</td>\n",
       "      <td>1</td>\n",
       "    </tr>\n",
       "    <tr>\n",
       "      <th>538</th>\n",
       "      <td>2015</td>\n",
       "      <td>31</td>\n",
       "      <td>2394.0</td>\n",
       "      <td>0.467836</td>\n",
       "      <td>8</td>\n",
       "    </tr>\n",
       "    <tr>\n",
       "      <th>526</th>\n",
       "      <td>2015</td>\n",
       "      <td>25</td>\n",
       "      <td>155.0</td>\n",
       "      <td>0.077419</td>\n",
       "      <td>7</td>\n",
       "    </tr>\n",
       "    <tr>\n",
       "      <th>266</th>\n",
       "      <td>2015</td>\n",
       "      <td>36</td>\n",
       "      <td>294.0</td>\n",
       "      <td>2.510000</td>\n",
       "      <td>2</td>\n",
       "    </tr>\n",
       "    <tr>\n",
       "      <th>...</th>\n",
       "      <td>...</td>\n",
       "      <td>...</td>\n",
       "      <td>...</td>\n",
       "      <td>...</td>\n",
       "      <td>...</td>\n",
       "    </tr>\n",
       "    <tr>\n",
       "      <th>428</th>\n",
       "      <td>2015</td>\n",
       "      <td>1</td>\n",
       "      <td>35727.0</td>\n",
       "      <td>1.080000</td>\n",
       "      <td>4</td>\n",
       "    </tr>\n",
       "    <tr>\n",
       "      <th>278</th>\n",
       "      <td>2016</td>\n",
       "      <td>30</td>\n",
       "      <td>65.0</td>\n",
       "      <td>2.690000</td>\n",
       "      <td>2</td>\n",
       "    </tr>\n",
       "    <tr>\n",
       "      <th>149</th>\n",
       "      <td>2015</td>\n",
       "      <td>2</td>\n",
       "      <td>2057.0</td>\n",
       "      <td>15.000000</td>\n",
       "      <td>1</td>\n",
       "    </tr>\n",
       "    <tr>\n",
       "      <th>270</th>\n",
       "      <td>2015</td>\n",
       "      <td>40</td>\n",
       "      <td>8345.0</td>\n",
       "      <td>3.530000</td>\n",
       "      <td>2</td>\n",
       "    </tr>\n",
       "    <tr>\n",
       "      <th>439</th>\n",
       "      <td>2015</td>\n",
       "      <td>23</td>\n",
       "      <td>33357.0</td>\n",
       "      <td>1.750000</td>\n",
       "      <td>4</td>\n",
       "    </tr>\n",
       "  </tbody>\n",
       "</table>\n",
       "<p>426 rows × 5 columns</p>\n",
       "</div>"
      ],
      "text/plain": [
       "        4   0        2          3  1\n",
       "553  2015   3     90.0   3.533333  9\n",
       "119  2013  21   2578.6  13.280000  1\n",
       "538  2015  31   2394.0   0.467836  8\n",
       "526  2015  25    155.0   0.077419  7\n",
       "266  2015  36    294.0   2.510000  2\n",
       "..    ...  ..      ...        ... ..\n",
       "428  2015   1  35727.0   1.080000  4\n",
       "278  2016  30     65.0   2.690000  2\n",
       "149  2015   2   2057.0  15.000000  1\n",
       "270  2015  40   8345.0   3.530000  2\n",
       "439  2015  23  33357.0   1.750000  4\n",
       "\n",
       "[426 rows x 5 columns]"
      ]
     },
     "execution_count": 47,
     "metadata": {},
     "output_type": "execute_result"
    }
   ],
   "source": [
    "from sklearn.model_selection import train_test_split\n",
    "X_train, X_val, y_train, y_val = train_test_split(x1, y1)\n",
    "X_train"
   ]
  },
  {
   "cell_type": "code",
   "execution_count": 48,
   "metadata": {},
   "outputs": [],
   "source": [
    "y_train = np.reshape(y_train, (-1,1))\n",
    "y_val = np.reshape(y_val, (-1,1))\n",
    "\n",
    "scaler_x = MinMaxScaler()\n",
    "scaler_y = MinMaxScaler()\n",
    "\n",
    "scaler_x.fit(X_train)\n",
    "xtrain_scale = scaler_x.transform(X_train)\n",
    "scaler_x.fit(X_val)\n",
    "xval_scale = scaler_x.transform(X_val) \n",
    "\n",
    "scaler_y.fit(y_train)\n",
    "ytrain_scale = scaler_y.transform(y_train) \n",
    "scaler_y.fit(y_val) \n",
    "yval_scale = scaler_y.transform(y_val)\n",
    "# l = np.array([[17196,0,0,0]])\n",
    "# # l.reshape(1,-1)\n",
    "# scaler_x.fit(l)\n",
    "# l = scaler_x.transform(l)\n",
    "# # print(l)\n",
    "# scaler_y.inverse_transform(l)\n"
   ]
  },
  {
   "cell_type": "code",
   "execution_count": 49,
   "metadata": {},
   "outputs": [],
   "source": [
    "from sklearn.preprocessing import PolynomialFeatures\n",
    "from sklearn.linear_model import LinearRegression\n",
    "\n",
    "polynomial_features1 = PolynomialFeatures(degree=2)\n",
    "x_poly1 = polynomial_features1.fit_transform(X_train)\n",
    "model1 = LinearRegression()\n",
    "model1.fit(x_poly1, y_train)\n",
    "y_poly_pred1 = model1.predict(x_poly1)"
   ]
  },
  {
   "cell_type": "code",
   "execution_count": 50,
   "metadata": {},
   "outputs": [
    {
     "data": {
      "text/plain": [
       "(426, 21)"
      ]
     },
     "execution_count": 50,
     "metadata": {},
     "output_type": "execute_result"
    }
   ],
   "source": [
    "x_poly1.shape"
   ]
  },
  {
   "cell_type": "code",
   "execution_count": 51,
   "metadata": {},
   "outputs": [
    {
     "name": "stdout",
     "output_type": "stream",
     "text": [
      "88.56257875392907\n",
      "0.999994316081038\n"
     ]
    }
   ],
   "source": [
    "from sklearn.metrics import mean_squared_error, r2_score\n",
    "\n",
    "rmse1 = np.sqrt(mean_squared_error(y_train,y_poly_pred1))\n",
    "r21 = r2_score(y_train, y_poly_pred1)\n",
    "print(rmse1)\n",
    "print(r21)"
   ]
  },
  {
   "cell_type": "code",
   "execution_count": 52,
   "metadata": {},
   "outputs": [
    {
     "data": {
      "image/png": "[encoded data removed]",
      "text/plain": [
       "<Figure size 640x480 with 1 Axes>"
      ]
     },
     "metadata": {},
     "output_type": "display_data"
    }
   ],
   "source": [
    "import operator\n",
    "xm = np.arange(0, len(X_train),1)\n",
    "plt.scatter(xm, y_train,s=10)\n",
    "sort_axis = operator.itemgetter(0)\n",
    "sorted_zip = sorted(zip(xm, y_poly_pred1), key=sort_axis)\n",
    "xm, y_poly_pred1 = zip(*sorted_zip)\n",
    "plt.plot(xm, y_poly_pred1, color='m')\n",
    "plt.show()"
   ]
  },
  {
   "cell_type": "code",
   "execution_count": 53,
   "metadata": {},
   "outputs": [
    {
     "name": "stdout",
     "output_type": "stream",
     "text": [
      "Model: \"sequential\"\n",
      "_________________________________________________________________\n",
      " Layer (type)                Output Shape              Param #   \n",
      "=================================================================\n",
      " dense (Dense)               (None, 5)                 30        \n",
      "                                                                 \n",
      " dense_1 (Dense)             (None, 99)                594       \n",
      "                                                                 \n",
      " dense_2 (Dense)             (None, 1)                 100       \n",
      "                                                                 \n",
      "=================================================================\n",
      "Total params: 724\n",
      "Trainable params: 724\n",
      "Non-trainable params: 0\n",
      "_________________________________________________________________\n"
     ]
    }
   ],
   "source": [
    "model = Sequential()\n",
    "model.add(Dense(5, input_dim=5, kernel_initializer='normal',activation='relu'))\n",
    "model.add(Dense(99,activation='relu'))\n",
    "model.add(Dense(1, activation='linear')) \n",
    "model.summary()"
   ]
  },
  {
   "cell_type": "code",
   "execution_count": 54,
   "metadata": {},
   "outputs": [
    {
     "name": "stdout",
     "output_type": "stream",
     "text": [
      "Epoch 1/100\n",
      "3/3 [==============================] - 11s 867ms/step - loss: 0.0280 - mse: 0.0280 - mae: 0.0808 - val_loss: 0.0177 - val_mse: 0.0177 - val_mae: 0.0714\n",
      "Epoch 2/100\n",
      "3/3 [==============================] - 0s 154ms/step - loss: 0.0243 - mse: 0.0243 - mae: 0.0789 - val_loss: 0.0157 - val_mse: 0.0157 - val_mae: 0.0729\n",
      "Epoch 3/100\n",
      "3/3 [==============================] - 0s 144ms/step - loss: 0.0221 - mse: 0.0221 - mae: 0.0829 - val_loss: 0.0147 - val_mse: 0.0147 - val_mae: 0.0758\n",
      "Epoch 4/100\n",
      "3/3 [==============================] - 0s 160ms/step - loss: 0.0208 - mse: 0.0208 - mae: 0.0891 - val_loss: 0.0144 - val_mse: 0.0144 - val_mae: 0.0812\n",
      "Epoch 5/100\n",
      "3/3 [==============================] - 1s 452ms/step - loss: 0.0201 - mse: 0.0201 - mae: 0.0962 - val_loss: 0.0143 - val_mse: 0.0143 - val_mae: 0.0853\n",
      "Epoch 6/100\n",
      "3/3 [==============================] - 0s 225ms/step - loss: 0.0198 - mse: 0.0198 - mae: 0.1010 - val_loss: 0.0141 - val_mse: 0.0141 - val_mae: 0.0865\n",
      "Epoch 7/100\n",
      "3/3 [==============================] - 0s 149ms/step - loss: 0.0193 - mse: 0.0193 - mae: 0.1017 - val_loss: 0.0135 - val_mse: 0.0135 - val_mae: 0.0840\n",
      "Epoch 8/100\n",
      "3/3 [==============================] - 1s 550ms/step - loss: 0.0187 - mse: 0.0187 - mae: 0.0985 - val_loss: 0.0128 - val_mse: 0.0128 - val_mae: 0.0793\n",
      "Epoch 9/100\n",
      "3/3 [==============================] - 0s 169ms/step - loss: 0.0180 - mse: 0.0180 - mae: 0.0937 - val_loss: 0.0123 - val_mse: 0.0123 - val_mae: 0.0754\n",
      "Epoch 10/100\n",
      "3/3 [==============================] - 0s 157ms/step - loss: 0.0176 - mse: 0.0176 - mae: 0.0895 - val_loss: 0.0119 - val_mse: 0.0119 - val_mae: 0.0718\n",
      "Epoch 11/100\n",
      "3/3 [==============================] - 1s 479ms/step - loss: 0.0171 - mse: 0.0171 - mae: 0.0851 - val_loss: 0.0115 - val_mse: 0.0115 - val_mae: 0.0679\n",
      "Epoch 12/100\n",
      "3/3 [==============================] - 0s 144ms/step - loss: 0.0165 - mse: 0.0165 - mae: 0.0814 - val_loss: 0.0111 - val_mse: 0.0111 - val_mae: 0.0667\n",
      "Epoch 13/100\n",
      "3/3 [==============================] - 0s 143ms/step - loss: 0.0160 - mse: 0.0160 - mae: 0.0804 - val_loss: 0.0108 - val_mse: 0.0108 - val_mae: 0.0673\n",
      "Epoch 14/100\n",
      "3/3 [==============================] - 0s 195ms/step - loss: 0.0156 - mse: 0.0156 - mae: 0.0810 - val_loss: 0.0105 - val_mse: 0.0105 - val_mae: 0.0684\n",
      "Epoch 15/100\n",
      "3/3 [==============================] - 0s 166ms/step - loss: 0.0151 - mse: 0.0151 - mae: 0.0820 - val_loss: 0.0102 - val_mse: 0.0102 - val_mae: 0.0673\n",
      "Epoch 16/100\n",
      "3/3 [==============================] - 0s 136ms/step - loss: 0.0146 - mse: 0.0146 - mae: 0.0792 - val_loss: 0.0098 - val_mse: 0.0098 - val_mae: 0.0631\n",
      "Epoch 17/100\n",
      "3/3 [==============================] - 0s 168ms/step - loss: 0.0141 - mse: 0.0141 - mae: 0.0747 - val_loss: 0.0094 - val_mse: 0.0094 - val_mae: 0.0604\n",
      "Epoch 18/100\n",
      "3/3 [==============================] - 0s 234ms/step - loss: 0.0136 - mse: 0.0136 - mae: 0.0719 - val_loss: 0.0091 - val_mse: 0.0091 - val_mae: 0.0585\n",
      "Epoch 19/100\n",
      "3/3 [==============================] - 0s 181ms/step - loss: 0.0131 - mse: 0.0131 - mae: 0.0697 - val_loss: 0.0088 - val_mse: 0.0088 - val_mae: 0.0575\n",
      "Epoch 20/100\n",
      "3/3 [==============================] - 0s 177ms/step - loss: 0.0126 - mse: 0.0126 - mae: 0.0689 - val_loss: 0.0085 - val_mse: 0.0085 - val_mae: 0.0568\n",
      "Epoch 21/100\n",
      "3/3 [==============================] - 0s 139ms/step - loss: 0.0122 - mse: 0.0122 - mae: 0.0673 - val_loss: 0.0083 - val_mse: 0.0083 - val_mae: 0.0548\n",
      "Epoch 22/100\n",
      "3/3 [==============================] - 0s 177ms/step - loss: 0.0118 - mse: 0.0118 - mae: 0.0648 - val_loss: 0.0081 - val_mse: 0.0081 - val_mae: 0.0544\n",
      "Epoch 23/100\n",
      "3/3 [==============================] - 1s 472ms/step - loss: 0.0114 - mse: 0.0114 - mae: 0.0652 - val_loss: 0.0079 - val_mse: 0.0079 - val_mae: 0.0555\n",
      "Epoch 24/100\n",
      "3/3 [==============================] - 0s 216ms/step - loss: 0.0111 - mse: 0.0111 - mae: 0.0656 - val_loss: 0.0077 - val_mse: 0.0077 - val_mae: 0.0548\n",
      "Epoch 25/100\n",
      "3/3 [==============================] - 0s 165ms/step - loss: 0.0109 - mse: 0.0109 - mae: 0.0650 - val_loss: 0.0076 - val_mse: 0.0076 - val_mae: 0.0541\n",
      "Epoch 26/100\n",
      "3/3 [==============================] - 0s 178ms/step - loss: 0.0107 - mse: 0.0107 - mae: 0.0639 - val_loss: 0.0074 - val_mse: 0.0074 - val_mae: 0.0518\n",
      "Epoch 27/100\n",
      "3/3 [==============================] - 0s 216ms/step - loss: 0.0104 - mse: 0.0104 - mae: 0.0610 - val_loss: 0.0073 - val_mse: 0.0073 - val_mae: 0.0504\n",
      "Epoch 28/100\n",
      "3/3 [==============================] - 0s 187ms/step - loss: 0.0103 - mse: 0.0103 - mae: 0.0594 - val_loss: 0.0073 - val_mse: 0.0073 - val_mae: 0.0498\n",
      "Epoch 29/100\n",
      "3/3 [==============================] - 0s 146ms/step - loss: 0.0102 - mse: 0.0102 - mae: 0.0587 - val_loss: 0.0072 - val_mse: 0.0072 - val_mae: 0.0494\n",
      "Epoch 30/100\n",
      "3/3 [==============================] - 0s 197ms/step - loss: 0.0101 - mse: 0.0101 - mae: 0.0581 - val_loss: 0.0071 - val_mse: 0.0071 - val_mae: 0.0491\n",
      "Epoch 31/100\n",
      "3/3 [==============================] - 0s 187ms/step - loss: 0.0099 - mse: 0.0099 - mae: 0.0581 - val_loss: 0.0070 - val_mse: 0.0070 - val_mae: 0.0488\n",
      "Epoch 32/100\n",
      "3/3 [==============================] - 0s 161ms/step - loss: 0.0098 - mse: 0.0098 - mae: 0.0579 - val_loss: 0.0070 - val_mse: 0.0070 - val_mae: 0.0485\n",
      "Epoch 33/100\n",
      "3/3 [==============================] - 0s 171ms/step - loss: 0.0098 - mse: 0.0098 - mae: 0.0577 - val_loss: 0.0070 - val_mse: 0.0070 - val_mae: 0.0485\n",
      "Epoch 34/100\n",
      "3/3 [==============================] - 1s 560ms/step - loss: 0.0097 - mse: 0.0097 - mae: 0.0573 - val_loss: 0.0069 - val_mse: 0.0069 - val_mae: 0.0476\n",
      "Epoch 35/100\n",
      "3/3 [==============================] - 0s 209ms/step - loss: 0.0096 - mse: 0.0096 - mae: 0.0570 - val_loss: 0.0069 - val_mse: 0.0069 - val_mae: 0.0478\n",
      "Epoch 36/100\n",
      "3/3 [==============================] - 1s 295ms/step - loss: 0.0096 - mse: 0.0096 - mae: 0.0565 - val_loss: 0.0069 - val_mse: 0.0069 - val_mae: 0.0464\n",
      "Epoch 37/100\n",
      "3/3 [==============================] - 0s 151ms/step - loss: 0.0095 - mse: 0.0095 - mae: 0.0552 - val_loss: 0.0069 - val_mse: 0.0069 - val_mae: 0.0461\n",
      "Epoch 38/100\n",
      "3/3 [==============================] - 1s 226ms/step - loss: 0.0095 - mse: 0.0095 - mae: 0.0546 - val_loss: 0.0069 - val_mse: 0.0069 - val_mae: 0.0460\n",
      "Epoch 39/100\n",
      "3/3 [==============================] - 0s 175ms/step - loss: 0.0095 - mse: 0.0095 - mae: 0.0541 - val_loss: 0.0068 - val_mse: 0.0068 - val_mae: 0.0452\n",
      "Epoch 40/100\n",
      "3/3 [==============================] - 1s 237ms/step - loss: 0.0095 - mse: 0.0095 - mae: 0.0542 - val_loss: 0.0068 - val_mse: 0.0068 - val_mae: 0.0449\n",
      "Epoch 41/100\n",
      "3/3 [==============================] - 0s 171ms/step - loss: 0.0094 - mse: 0.0094 - mae: 0.0537 - val_loss: 0.0068 - val_mse: 0.0068 - val_mae: 0.0447\n",
      "Epoch 42/100\n",
      "3/3 [==============================] - 0s 215ms/step - loss: 0.0094 - mse: 0.0094 - mae: 0.0530 - val_loss: 0.0068 - val_mse: 0.0068 - val_mae: 0.0444\n",
      "Epoch 43/100\n",
      "3/3 [==============================] - 1s 404ms/step - loss: 0.0094 - mse: 0.0094 - mae: 0.0528 - val_loss: 0.0068 - val_mse: 0.0068 - val_mae: 0.0440\n",
      "Epoch 44/100\n",
      "3/3 [==============================] - 0s 178ms/step - loss: 0.0094 - mse: 0.0094 - mae: 0.0531 - val_loss: 0.0068 - val_mse: 0.0068 - val_mae: 0.0442\n",
      "Epoch 45/100\n",
      "3/3 [==============================] - 0s 160ms/step - loss: 0.0094 - mse: 0.0094 - mae: 0.0535 - val_loss: 0.0068 - val_mse: 0.0068 - val_mae: 0.0445\n",
      "Epoch 46/100\n",
      "3/3 [==============================] - 1s 319ms/step - loss: 0.0094 - mse: 0.0094 - mae: 0.0536 - val_loss: 0.0068 - val_mse: 0.0068 - val_mae: 0.0440\n",
      "Epoch 47/100\n",
      "3/3 [==============================] - 0s 174ms/step - loss: 0.0094 - mse: 0.0094 - mae: 0.0528 - val_loss: 0.0068 - val_mse: 0.0068 - val_mae: 0.0445\n",
      "Epoch 48/100\n",
      "3/3 [==============================] - 0s 198ms/step - loss: 0.0094 - mse: 0.0094 - mae: 0.0528 - val_loss: 0.0068 - val_mse: 0.0068 - val_mae: 0.0444\n",
      "Epoch 49/100\n",
      "3/3 [==============================] - 0s 204ms/step - loss: 0.0093 - mse: 0.0093 - mae: 0.0533 - val_loss: 0.0068 - val_mse: 0.0068 - val_mae: 0.0447\n",
      "Epoch 50/100\n",
      "3/3 [==============================] - 0s 129ms/step - loss: 0.0094 - mse: 0.0094 - mae: 0.0536 - val_loss: 0.0067 - val_mse: 0.0067 - val_mae: 0.0445\n",
      "Epoch 51/100\n",
      "3/3 [==============================] - 0s 158ms/step - loss: 0.0093 - mse: 0.0093 - mae: 0.0535 - val_loss: 0.0068 - val_mse: 0.0068 - val_mae: 0.0449\n",
      "Epoch 52/100\n",
      "3/3 [==============================] - 0s 182ms/step - loss: 0.0093 - mse: 0.0093 - mae: 0.0543 - val_loss: 0.0068 - val_mse: 0.0068 - val_mae: 0.0466\n",
      "Epoch 53/100\n",
      "3/3 [==============================] - 0s 181ms/step - loss: 0.0095 - mse: 0.0095 - mae: 0.0572 - val_loss: 0.0068 - val_mse: 0.0068 - val_mae: 0.0460\n",
      "Epoch 54/100\n",
      "3/3 [==============================] - 0s 158ms/step - loss: 0.0093 - mse: 0.0093 - mae: 0.0549 - val_loss: 0.0069 - val_mse: 0.0069 - val_mae: 0.0462\n",
      "Epoch 55/100\n",
      "3/3 [==============================] - 0s 144ms/step - loss: 0.0094 - mse: 0.0094 - mae: 0.0547 - val_loss: 0.0071 - val_mse: 0.0071 - val_mae: 0.0482\n",
      "Epoch 56/100\n",
      "3/3 [==============================] - 1s 537ms/step - loss: 0.0096 - mse: 0.0096 - mae: 0.0558 - val_loss: 0.0069 - val_mse: 0.0069 - val_mae: 0.0456\n",
      "Epoch 57/100\n",
      "3/3 [==============================] - 0s 184ms/step - loss: 0.0093 - mse: 0.0093 - mae: 0.0534 - val_loss: 0.0067 - val_mse: 0.0067 - val_mae: 0.0447\n",
      "Epoch 58/100\n",
      "3/3 [==============================] - 0s 177ms/step - loss: 0.0094 - mse: 0.0094 - mae: 0.0551 - val_loss: 0.0067 - val_mse: 0.0067 - val_mae: 0.0448\n",
      "Epoch 59/100\n",
      "3/3 [==============================] - 0s 175ms/step - loss: 0.0092 - mse: 0.0092 - mae: 0.0534 - val_loss: 0.0068 - val_mse: 0.0068 - val_mae: 0.0442\n",
      "Epoch 60/100\n",
      "3/3 [==============================] - 0s 181ms/step - loss: 0.0094 - mse: 0.0094 - mae: 0.0531 - val_loss: 0.0069 - val_mse: 0.0069 - val_mae: 0.0447\n",
      "Epoch 61/100\n",
      "3/3 [==============================] - 0s 158ms/step - loss: 0.0094 - mse: 0.0094 - mae: 0.0527 - val_loss: 0.0067 - val_mse: 0.0067 - val_mae: 0.0439\n",
      "Epoch 62/100\n",
      "3/3 [==============================] - 0s 165ms/step - loss: 0.0093 - mse: 0.0093 - mae: 0.0552 - val_loss: 0.0069 - val_mse: 0.0069 - val_mae: 0.0496\n",
      "Epoch 63/100\n",
      "3/3 [==============================] - 0s 166ms/step - loss: 0.0094 - mse: 0.0094 - mae: 0.0587 - val_loss: 0.0067 - val_mse: 0.0067 - val_mae: 0.0451\n",
      "Epoch 64/100\n",
      "3/3 [==============================] - 0s 148ms/step - loss: 0.0093 - mse: 0.0093 - mae: 0.0538 - val_loss: 0.0068 - val_mse: 0.0068 - val_mae: 0.0437\n",
      "Epoch 65/100\n",
      "3/3 [==============================] - 0s 138ms/step - loss: 0.0093 - mse: 0.0093 - mae: 0.0528 - val_loss: 0.0069 - val_mse: 0.0069 - val_mae: 0.0445\n",
      "Epoch 66/100\n",
      "3/3 [==============================] - 1s 504ms/step - loss: 0.0093 - mse: 0.0093 - mae: 0.0530 - val_loss: 0.0068 - val_mse: 0.0068 - val_mae: 0.0438\n",
      "Epoch 67/100\n",
      "3/3 [==============================] - 0s 189ms/step - loss: 0.0092 - mse: 0.0092 - mae: 0.0529 - val_loss: 0.0067 - val_mse: 0.0067 - val_mae: 0.0443\n",
      "Epoch 68/100\n",
      "3/3 [==============================] - 0s 162ms/step - loss: 0.0092 - mse: 0.0092 - mae: 0.0539 - val_loss: 0.0067 - val_mse: 0.0067 - val_mae: 0.0452\n",
      "Epoch 69/100\n",
      "3/3 [==============================] - 0s 191ms/step - loss: 0.0092 - mse: 0.0092 - mae: 0.0551 - val_loss: 0.0067 - val_mse: 0.0067 - val_mae: 0.0455\n",
      "Epoch 70/100\n",
      "3/3 [==============================] - 0s 165ms/step - loss: 0.0092 - mse: 0.0092 - mae: 0.0545 - val_loss: 0.0068 - val_mse: 0.0068 - val_mae: 0.0442\n",
      "Epoch 71/100\n",
      "3/3 [==============================] - 0s 215ms/step - loss: 0.0092 - mse: 0.0092 - mae: 0.0534 - val_loss: 0.0068 - val_mse: 0.0068 - val_mae: 0.0450\n",
      "Epoch 72/100\n",
      "3/3 [==============================] - 0s 199ms/step - loss: 0.0092 - mse: 0.0092 - mae: 0.0534 - val_loss: 0.0068 - val_mse: 0.0068 - val_mae: 0.0445\n",
      "Epoch 73/100\n",
      "3/3 [==============================] - 0s 213ms/step - loss: 0.0092 - mse: 0.0092 - mae: 0.0533 - val_loss: 0.0067 - val_mse: 0.0067 - val_mae: 0.0440\n",
      "Epoch 74/100\n",
      "3/3 [==============================] - 0s 141ms/step - loss: 0.0091 - mse: 0.0091 - mae: 0.0537 - val_loss: 0.0068 - val_mse: 0.0068 - val_mae: 0.0481\n",
      "Epoch 75/100\n",
      "3/3 [==============================] - 0s 190ms/step - loss: 0.0093 - mse: 0.0093 - mae: 0.0583 - val_loss: 0.0069 - val_mse: 0.0069 - val_mae: 0.0502\n",
      "Epoch 76/100\n",
      "3/3 [==============================] - 0s 164ms/step - loss: 0.0094 - mse: 0.0094 - mae: 0.0591 - val_loss: 0.0067 - val_mse: 0.0067 - val_mae: 0.0449\n",
      "Epoch 77/100\n",
      "3/3 [==============================] - 0s 232ms/step - loss: 0.0093 - mse: 0.0093 - mae: 0.0543 - val_loss: 0.0069 - val_mse: 0.0069 - val_mae: 0.0465\n",
      "Epoch 78/100\n",
      "3/3 [==============================] - 1s 404ms/step - loss: 0.0093 - mse: 0.0093 - mae: 0.0544 - val_loss: 0.0068 - val_mse: 0.0068 - val_mae: 0.0451\n",
      "Epoch 79/100\n",
      "3/3 [==============================] - 0s 232ms/step - loss: 0.0091 - mse: 0.0091 - mae: 0.0537 - val_loss: 0.0068 - val_mse: 0.0068 - val_mae: 0.0453\n",
      "Epoch 80/100\n",
      "3/3 [==============================] - 0s 144ms/step - loss: 0.0092 - mse: 0.0092 - mae: 0.0552 - val_loss: 0.0068 - val_mse: 0.0068 - val_mae: 0.0466\n",
      "Epoch 81/100\n",
      "3/3 [==============================] - 0s 230ms/step - loss: 0.0092 - mse: 0.0092 - mae: 0.0558 - val_loss: 0.0067 - val_mse: 0.0067 - val_mae: 0.0447\n",
      "Epoch 82/100\n",
      "3/3 [==============================] - 0s 153ms/step - loss: 0.0091 - mse: 0.0091 - mae: 0.0540 - val_loss: 0.0068 - val_mse: 0.0068 - val_mae: 0.0448\n",
      "Epoch 83/100\n",
      "3/3 [==============================] - 0s 207ms/step - loss: 0.0091 - mse: 0.0091 - mae: 0.0538 - val_loss: 0.0068 - val_mse: 0.0068 - val_mae: 0.0447\n",
      "Epoch 84/100\n",
      "3/3 [==============================] - 0s 228ms/step - loss: 0.0091 - mse: 0.0091 - mae: 0.0541 - val_loss: 0.0067 - val_mse: 0.0067 - val_mae: 0.0448\n",
      "Epoch 85/100\n",
      "3/3 [==============================] - 0s 132ms/step - loss: 0.0091 - mse: 0.0091 - mae: 0.0541 - val_loss: 0.0067 - val_mse: 0.0067 - val_mae: 0.0448\n",
      "Epoch 86/100\n",
      "3/3 [==============================] - 0s 175ms/step - loss: 0.0091 - mse: 0.0091 - mae: 0.0540 - val_loss: 0.0068 - val_mse: 0.0068 - val_mae: 0.0450\n",
      "Epoch 87/100\n",
      "3/3 [==============================] - 0s 188ms/step - loss: 0.0091 - mse: 0.0091 - mae: 0.0541 - val_loss: 0.0068 - val_mse: 0.0068 - val_mae: 0.0453\n",
      "Epoch 88/100\n",
      "3/3 [==============================] - 0s 211ms/step - loss: 0.0091 - mse: 0.0091 - mae: 0.0541 - val_loss: 0.0068 - val_mse: 0.0068 - val_mae: 0.0454\n",
      "Epoch 89/100\n",
      "3/3 [==============================] - 1s 439ms/step - loss: 0.0091 - mse: 0.0091 - mae: 0.0542 - val_loss: 0.0068 - val_mse: 0.0068 - val_mae: 0.0454\n",
      "Epoch 90/100\n",
      "3/3 [==============================] - 0s 160ms/step - loss: 0.0091 - mse: 0.0091 - mae: 0.0540 - val_loss: 0.0067 - val_mse: 0.0067 - val_mae: 0.0447\n",
      "Epoch 91/100\n",
      "3/3 [==============================] - 0s 163ms/step - loss: 0.0091 - mse: 0.0091 - mae: 0.0540 - val_loss: 0.0067 - val_mse: 0.0067 - val_mae: 0.0446\n",
      "Epoch 92/100\n",
      "3/3 [==============================] - 0s 141ms/step - loss: 0.0091 - mse: 0.0091 - mae: 0.0535 - val_loss: 0.0068 - val_mse: 0.0068 - val_mae: 0.0449\n",
      "Epoch 93/100\n",
      "3/3 [==============================] - 0s 134ms/step - loss: 0.0092 - mse: 0.0092 - mae: 0.0539 - val_loss: 0.0068 - val_mse: 0.0068 - val_mae: 0.0446\n",
      "Epoch 94/100\n",
      "3/3 [==============================] - 0s 160ms/step - loss: 0.0091 - mse: 0.0091 - mae: 0.0534 - val_loss: 0.0067 - val_mse: 0.0067 - val_mae: 0.0444\n",
      "Epoch 95/100\n",
      "3/3 [==============================] - 0s 226ms/step - loss: 0.0091 - mse: 0.0091 - mae: 0.0545 - val_loss: 0.0067 - val_mse: 0.0067 - val_mae: 0.0445\n",
      "Epoch 96/100\n",
      "3/3 [==============================] - 0s 134ms/step - loss: 0.0091 - mse: 0.0091 - mae: 0.0539 - val_loss: 0.0067 - val_mse: 0.0067 - val_mae: 0.0443\n",
      "Epoch 97/100\n",
      "3/3 [==============================] - 0s 166ms/step - loss: 0.0091 - mse: 0.0091 - mae: 0.0534 - val_loss: 0.0069 - val_mse: 0.0069 - val_mae: 0.0456\n",
      "Epoch 98/100\n",
      "3/3 [==============================] - 1s 518ms/step - loss: 0.0092 - mse: 0.0092 - mae: 0.0539 - val_loss: 0.0068 - val_mse: 0.0068 - val_mae: 0.0445\n",
      "Epoch 99/100\n",
      "3/3 [==============================] - 0s 152ms/step - loss: 0.0091 - mse: 0.0091 - mae: 0.0527 - val_loss: 0.0067 - val_mse: 0.0067 - val_mae: 0.0448\n",
      "Epoch 100/100\n",
      "3/3 [==============================] - 0s 150ms/step - loss: 0.0091 - mse: 0.0091 - mae: 0.0548 - val_loss: 0.0067 - val_mse: 0.0067 - val_mae: 0.0469\n",
      "5/5 [==============================] - 1s 10ms/step\n"
     ]
    }
   ],
   "source": [
    "model.compile(loss='mse', optimizer='adam', metrics=['mse','mae']) \n",
    "history = model.fit(xtrain_scale, ytrain_scale, epochs=100, batch_size=150, verbose=1, validation_split=0.2) \n",
    "predictions = model.predict(xval_scale)"
   ]
  },
  {
   "cell_type": "code",
   "execution_count": 55,
   "metadata": {},
   "outputs": [],
   "source": [
    "def crop_yield_prediction():\n",
    "\n",
    "    print(\"Input year\")\n",
    "    year = input()\n",
    "    year = int(year)\n",
    "    print(\"input county\")\n",
    "    county = input()\n",
    "\n",
    "\n",
    "\n",
    "    \n",
    "    print(\"Input HA\")\n",
    "    ha = input()\n",
    "    ha = int(ha)\n",
    "\n",
    "\n",
    "    print(\"input MT/HA\")\n",
    "    mt_ha = input()\n",
    "    mt_ha = float(mt_ha)\n",
    "\n",
    "    print(\"input name\")\n",
    "    name = input()\n",
    "\n",
    "    v = [[year,mapping['county'][county],ha,mt_ha,mapping['name'][name]]]\n",
    "    v = polynomial_features1.fit_transform(v)\n",
    "    \n",
    "    \n",
    "\n",
    "    print(county,ha, mt_ha,name)\n",
    "    # v = scaler_x.transform([[mapping['county'][county],ha,mt_ha,mapping['name'][name]]]]) \n",
    "\n",
    "\n",
    "    crop_yield = model1.predict(v)\n",
    "    # crop_yield = scaler_y.inverse_transform(crop_yield) \n",
    "    \n",
    "    print(crop_yield)"
   ]
  },
  {
   "cell_type": "code",
   "execution_count": 56,
   "metadata": {},
   "outputs": [],
   "source": [
    "# crop_yield_prediction()"
   ]
  },
  {
   "cell_type": "code",
   "execution_count": 57,
   "metadata": {},
   "outputs": [
    {
     "data": {
      "text/plain": [
       "['final_yield.pkl']"
      ]
     },
     "execution_count": 57,
     "metadata": {},
     "output_type": "execute_result"
    }
   ],
   "source": [
    "joblib.dump(model1, 'final_yield.pkl')"
   ]
  },
  {
   "cell_type": "code",
   "execution_count": 58,
   "metadata": {},
   "outputs": [
    {
     "data": {
      "text/plain": [
       "['poly_reg.pkl']"
      ]
     },
     "execution_count": 58,
     "metadata": {},
     "output_type": "execute_result"
    }
   ],
   "source": [
    "joblib.dump(polynomial_features1, 'poly_reg.pkl')"
   ]
  },
  {
   "cell_type": "code",
   "execution_count": 59,
   "metadata": {},
   "outputs": [
    {
     "name": "stdout",
     "output_type": "stream",
     "text": [
      "Stored 'mapping' (dict)\n"
     ]
    }
   ],
   "source": [
    "%store mapping"
   ]
  },
  {
   "cell_type": "code",
   "execution_count": 60,
   "metadata": {},
   "outputs": [],
   "source": [
    "# import tensorflow as tf \n",
    "\n",
    "\n",
    "# n = ([mapping])\n"
   ]
  },
  {
   "cell_type": "code",
   "execution_count": 61,
   "metadata": {},
   "outputs": [],
   "source": [
    "# model.save('finalYield.h5')"
   ]
  }
 ],
 "metadata": {
  "kernelspec": {
   "display_name": "Python 3",
   "language": "python",
   "name": "python3"
  },
  "language_info": {
   "codemirror_mode": {
    "name": "ipython",
    "version": 3
   },
   "file_extension": ".py",
   "mimetype": "text/x-python",
   "name": "python",
   "nbconvert_exporter": "python",
   "pygments_lexer": "ipython3",
   "version": "3.8.10"
  },
  "orig_nbformat": 4,
  "vscode": {
   "interpreter": {
    "hash": "c857519ea1047c5199979f422fdab24b71a1e1e2b7b3a9f2f450a418665169c1"
   }
  }
 },
 "nbformat": 4,
 "nbformat_minor": 2
}
