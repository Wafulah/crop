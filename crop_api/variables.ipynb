{
 "cells": [
  {
   "cell_type": "code",
   "execution_count": 1,
   "metadata": {},
   "outputs": [],
   "source": [
    "import joblib \n",
    "import json\n",
    "%store -r mapping\n",
    "%store -r mapping_mt"
   ]
  },
  {
   "cell_type": "code",
   "execution_count": 21,
   "metadata": {},
   "outputs": [],
   "source": [
    "# joblib.dump(mapping, 'variables.py')\n",
    "with open(\"../static/model/variables.json\", \"w\") as wf:\n",
    "    json.dump(mapping, wf)\n",
    "\n",
    "with open(\"../static/model/variables_mt.json\", \"w\") as wf:\n",
    "    json.dump(mapping_mt, wf)\n",
    "\n"
   ]
  }
 ],
 "metadata": {
  "kernelspec": {
   "display_name": "Python 3",
   "language": "python",
   "name": "python3"
  },
  "language_info": {
   "codemirror_mode": {
    "name": "ipython",
    "version": 3
   },
   "file_extension": ".py",
   "mimetype": "text/x-python",
   "name": "python",
   "nbconvert_exporter": "python",
   "pygments_lexer": "ipython3",
   "version": "3.8.10"
  },
  "orig_nbformat": 4,
  "vscode": {
   "interpreter": {
    "hash": "c857519ea1047c5199979f422fdab24b71a1e1e2b7b3a9f2f450a418665169c1"
   }
  }
 },
 "nbformat": 4,
 "nbformat_minor": 2
}
