{
 "cells": [
  {
   "cell_type": "code",
   "execution_count": 1,
   "metadata": {},
   "outputs": [],
   "source": [
    "import joblib \n",
    "import json\n",
    "%store -r mapping\n",
    "%store -r mapping_mt"
   ]
  },
  {
   "cell_type": "code",
   "execution_count": 21,
   "metadata": {},
   "outputs": [],
   "source": [
    "# joblib.dump(mapping, 'variables.py')\n",
    "with open(\"../static/model/variables.json\", \"w\") as wf:\n",
    "    json.dump(mapping, wf)\n",
    "\n",
    "with open(\"../static/model/variables_mt.json\", \"w\") as wf:\n",
    "    json.dump(mapping_mt, wf)\n",
    "\n"
   ]
  }
 ],
 "metadata": {
  "kernelspec": {
   "display_name": "Python 3.9.0 64-bit",
   "language": "python",
   "name": "python3"
  },
  "language_info": {
   "codemirror_mode": {
    "name": "ipython",
    "version": 3
   },
   "file_extension": ".py",
   "mimetype": "text/x-python",
   "name": "python",
   "nbconvert_exporter": "python",
   "pygments_lexer": "ipython3",
   "version": "3.9.0"
  },
  "orig_nbformat": 4,
  "vscode": {
   "interpreter": {
    "hash": "f59bfb77d31279a84aa7c6b22ab51cfaad04fa8856c5e5d6b64f6ca5d8883f94"
   }
  }
 },
 "nbformat": 4,
 "nbformat_minor": 2
}
